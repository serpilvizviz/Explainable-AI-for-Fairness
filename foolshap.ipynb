{
  "nbformat": 4,
  "nbformat_minor": 0,
  "metadata": {
    "colab": {
      "provenance": []
    },
    "kernelspec": {
      "name": "python3",
      "display_name": "Python 3"
    },
    "language_info": {
      "name": "python"
    }
  },
  "cells": [
    {
      "cell_type": "code",
      "source": [
        "import numpy as np\n",
        "import pandas as pd\n",
        "import shap\n",
        "import tensorflow as tf\n",
        "from tensorflow.keras.models import Sequential\n",
        "from tensorflow.keras.layers import Dense, Dropout\n",
        "from tensorflow.keras import optimizers\n",
        "from sklearn.model_selection import train_test_split\n",
        "from sklearn.preprocessing import StandardScaler\n",
        "import matplotlib.pyplot as plt\n",
        "import seaborn as sns\n",
        "\n",
        "df = pd.read_csv(\"hf://datasets/scikit-learn/adult-census-income/adult.csv\")\n",
        "\n",
        "df = df[['age', 'workclass', 'education', 'education.num', 'marital.status',\n",
        "         'occupation', 'relationship', 'race', 'sex', 'capital.gain',\n",
        "         'capital.loss', 'hours.per.week', 'native.country', 'income']]\n",
        "\n",
        "df['income'] = df['income'].apply(lambda x: 1 if x == '>50K' else 0)\n",
        "\n",
        "y = df['income']\n",
        "group = (df['sex'] == 'Male').astype(int)\n",
        "X = df.drop(columns=['income', 'sex'])\n",
        "\n",
        "X_encoded = pd.get_dummies(X, drop_first=True)\n",
        "\n",
        "X_train, X_test, y_train, y_test, group_train, group_test = train_test_split(\n",
        "    X_encoded, y, group, test_size=0.20, random_state=42)\n",
        "\n",
        "scaler = StandardScaler()\n",
        "X_train_scaled = scaler.fit_transform(X_train)\n",
        "X_test_scaled = scaler.transform(X_test)"
      ],
      "metadata": {
        "id": "lkiJR5MfQG3n"
      },
      "execution_count": 12,
      "outputs": []
    },
    {
      "cell_type": "code",
      "source": [
        "def build_mlp(input_dim):\n",
        "    model = Sequential([\n",
        "        Dense(64, activation='relu', input_shape=(input_dim,)),\n",
        "        Dropout(0.2),\n",
        "        Dense(32, activation='relu'),\n",
        "        Dense(1, activation='sigmoid')\n",
        "    ])\n",
        "    model.compile(optimizer='adam', loss='binary_crossentropy', metrics=['accuracy'])\n",
        "    return model\n",
        "\n",
        "model = build_mlp(X_train.shape[1])\n",
        "\n",
        "print(\"Model training...\")\n",
        "model.fit(X_train_scaled, y_train, epochs=20, batch_size=32, validation_data=(X_test_scaled, y_test))\n",
        "print(\"Model training completed!\")"
      ],
      "metadata": {
        "colab": {
          "base_uri": "https://localhost:8080/"
        },
        "id": "PbDlyscPQKNp",
        "outputId": "a6c2a48f-1fb2-4ada-dc01-218c634d92d4"
      },
      "execution_count": null,
      "outputs": [
        {
          "output_type": "stream",
          "name": "stdout",
          "text": [
            "Model training...\n",
            "Epoch 1/20\n"
          ]
        },
        {
          "output_type": "stream",
          "name": "stderr",
          "text": [
            "/usr/local/lib/python3.11/dist-packages/keras/src/layers/core/dense.py:87: UserWarning: Do not pass an `input_shape`/`input_dim` argument to a layer. When using Sequential models, prefer using an `Input(shape)` object as the first layer in the model instead.\n",
            "  super().__init__(activity_regularizer=activity_regularizer, **kwargs)\n"
          ]
        },
        {
          "output_type": "stream",
          "name": "stdout",
          "text": [
            "\u001b[1m814/814\u001b[0m \u001b[32m━━━━━━━━━━━━━━━━━━━━\u001b[0m\u001b[37m\u001b[0m \u001b[1m4s\u001b[0m 3ms/step - accuracy: 0.8029 - loss: 0.4142 - val_accuracy: 0.8465 - val_loss: 0.3345\n",
            "Epoch 2/20\n",
            "\u001b[1m814/814\u001b[0m \u001b[32m━━━━━━━━━━━━━━━━━━━━\u001b[0m\u001b[37m\u001b[0m \u001b[1m4s\u001b[0m 2ms/step - accuracy: 0.8494 - loss: 0.3292 - val_accuracy: 0.8503 - val_loss: 0.3261\n",
            "Epoch 3/20\n",
            "\u001b[1m814/814\u001b[0m \u001b[32m━━━━━━━━━━━━━━━━━━━━\u001b[0m\u001b[37m\u001b[0m \u001b[1m2s\u001b[0m 2ms/step - accuracy: 0.8560 - loss: 0.3136 - val_accuracy: 0.8517 - val_loss: 0.3216\n",
            "Epoch 4/20\n",
            "\u001b[1m786/814\u001b[0m \u001b[32m━━━━━━━━━━━━━━━━━━━\u001b[0m\u001b[37m━\u001b[0m \u001b[1m0s\u001b[0m 2ms/step - accuracy: 0.8558 - loss: 0.3141"
          ]
        }
      ]
    },
    {
      "cell_type": "code",
      "source": [
        "predict_fn = lambda x: model(x, training=False).numpy().flatten()\n",
        "\n",
        "explainer = shap.KernelExplainer(predict_fn, X_train_scaled[:50])\n",
        "shap_values = explainer.shap_values(X_test_scaled[:100], nsamples=50)\n",
        "\n",
        "mean_shap = np.abs(shap_values).mean(axis=0)\n",
        "df_shap_importance = pd.DataFrame({\n",
        "    'Feature': X_train.columns,\n",
        "    'Mean_SHAP': mean_shap\n",
        "})\n",
        "\n",
        "def simplify_feature(name):\n",
        "    if '_' in name:\n",
        "        return name.split('_')[0]\n",
        "    else:\n",
        "        return name\n",
        "\n",
        "df_shap_importance['Simplified_Feature'] = df_shap_importance['Feature'].apply(simplify_feature)\n",
        "\n",
        "df_simplified = df_shap_importance.groupby('Simplified_Feature').agg({'Mean_SHAP': 'mean'}).reset_index()\n",
        "df_simplified = df_simplified.sort_values('Mean_SHAP', ascending=False)\n",
        "\n",
        "plt.figure(figsize=(10, 6))\n",
        "sns.barplot(x='Mean_SHAP', y='Simplified_Feature', data=df_simplified, palette='Blues_r')\n",
        "plt.title(\"Main Feature Importance Based on Normal SHAP Values\")\n",
        "plt.xlabel(\"Mean SHAP Value\")\n",
        "plt.tight_layout()\n",
        "plt.show()"
      ],
      "metadata": {
        "id": "C3klJbHQQNM0"
      },
      "execution_count": null,
      "outputs": []
    },
    {
      "cell_type": "code",
      "source": [
        "attack_model = build_mlp(X_train.shape[1])\n",
        "attack_model.set_weights(model.get_weights())\n",
        "\n",
        "optimizer = optimizers.Adam(learning_rate=0.001)\n",
        "\n",
        "def fool_shap(model, sample_X, sample_group, epochs=50):\n",
        "    for epoch in range(epochs):\n",
        "        with tf.GradientTape() as tape:\n",
        "            preds = model(sample_X, training=True)\n",
        "            preds = tf.squeeze(preds)\n",
        "\n",
        "            male_preds = tf.boolean_mask(preds, sample_group == 1)\n",
        "            female_preds = tf.boolean_mask(preds, sample_group == 0)\n",
        "\n",
        "            male_mean = tf.reduce_mean(male_preds)\n",
        "            female_mean = tf.reduce_mean(female_preds)\n",
        "\n",
        "            loss = tf.abs(male_mean - female_mean)\n",
        "\n",
        "        gradients = tape.gradient(loss, model.trainable_variables)\n",
        "        optimizer.apply_gradients(zip(gradients, model.trainable_variables))\n",
        "\n",
        "        if epoch % 5 == 0:\n",
        "            print(f\"Epoch {epoch}: Fooling Loss = {loss.numpy():.4f}\")\n",
        "\n",
        "print(\"\\nNormal SHAP fooling starting...\")\n",
        "fool_shap(attack_model, X_test_scaled[:100], group_test[:100], epochs=50)\n",
        "print(\"Fooling completed!\")"
      ],
      "metadata": {
        "id": "l4TzsgrBQPHJ"
      },
      "execution_count": null,
      "outputs": []
    },
    {
      "cell_type": "code",
      "source": [
        "explainer_fool = shap.KernelExplainer(lambda x: attack_model(x, training=False).numpy().flatten(), X_train_scaled[:50])\n",
        "shap_values_fool = explainer_fool.shap_values(X_test_scaled[:100], nsamples=50)\n",
        "\n",
        "mean_shap_fool = np.abs(shap_values_fool).mean(axis=0)\n",
        "df_shap_importance_fool = pd.DataFrame({\n",
        "    'Feature': X_train.columns,\n",
        "    'Mean_SHAP_Fool': mean_shap_fool\n",
        "})\n",
        "\n",
        "df_shap_importance_fool['Simplified_Feature'] = df_shap_importance_fool['Feature'].apply(simplify_feature)\n",
        "\n",
        "df_simplified_fool = df_shap_importance_fool.groupby('Simplified_Feature').agg({'Mean_SHAP_Fool': 'mean'}).reset_index()\n",
        "df_simplified_fool = df_simplified_fool.sort_values('Mean_SHAP_Fool', ascending=False)\n",
        "\n",
        "plt.figure(figsize=(10, 6))\n",
        "sns.barplot(x='Mean_SHAP_Fool', y='Simplified_Feature', data=df_simplified_fool, palette='Reds_r')\n",
        "plt.title(\"Original SHAP-Based Feature Importance (Post-Fooling)\")\n",
        "plt.xlabel(\"Mean SHAP Value (Fool)\")\n",
        "plt.tight_layout()\n",
        "plt.show()"
      ],
      "metadata": {
        "id": "Xf5D8Q9bQRFX"
      },
      "execution_count": null,
      "outputs": []
    },
    {
      "cell_type": "code",
      "source": [
        "mean_shap_before = df_simplified[\"Mean_SHAP\"].mean()\n",
        "\n",
        "mean_shap_after = df_simplified_fool[\"Mean_SHAP_Fool\"].mean()\n",
        "\n",
        "mean_diff = mean_shap_after - mean_shap_before\n",
        "\n",
        "percent_change = (mean_diff / abs(mean_shap_before)) * 100\n",
        "\n",
        "print(f\"Average SHAP Change After Fooling: {mean_diff:.6f}\")\n",
        "print(f\"Average Percentage Change in SHAP After Fooling: %{percent_change:.2f}\")"
      ],
      "metadata": {
        "id": "cmhIK_JuQUpn"
      },
      "execution_count": null,
      "outputs": []
    }
  ]
}