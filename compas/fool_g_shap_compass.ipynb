{
  "cells": [
    {
      "cell_type": "code",
      "execution_count": null,
      "metadata": {
        "colab": {
          "base_uri": "https://localhost:8080/"
        },
        "id": "b8Ku01-ZfoUs",
        "outputId": "a9396bb6-4e74-4b95-805c-edaf147ca46a"
      },
      "outputs": [],
      "source": [
        "!pip install git+https://github.com/dsbowen/gshap.git"
      ]
    },
    {
      "cell_type": "code",
      "execution_count": null,
      "metadata": {
        "colab": {
          "base_uri": "https://localhost:8080/"
        },
        "collapsed": true,
        "id": "4fB2xfSpdBik",
        "outputId": "b7c72c69-d0f8-48df-b7c6-2481c0b7e78e"
      },
      "outputs": [],
      "source": [
        "!pip install datasets\n",
        "import numpy as np\n",
        "import pandas as pd\n",
        "import shap\n",
        "import gshap\n",
        "from gshap.intergroup import IntergroupDifference\n",
        "import tensorflow as tf\n",
        "from tensorflow.keras.models import Sequential\n",
        "from tensorflow.keras.layers import Dense, Dropout\n",
        "from tensorflow.keras import optimizers\n",
        "from sklearn.model_selection import train_test_split\n",
        "from sklearn.preprocessing import StandardScaler\n",
        "import matplotlib.pyplot as plt\n",
        "import seaborn as sns\n",
        "\n",
        "splits = {'train': 'train.csv', 'test': 'test.csv'}\n",
        "df = pd.read_csv(\"hf://datasets/imodels/compas-recidivism/\" + splits[\"train\"])"
      ]
    },
    {
      "cell_type": "code",
      "execution_count": null,
      "metadata": {
        "id": "2tnSAP7sda1E"
      },
      "outputs": [],
      "source": [
        "df = df[(df['race:African-American'] == 1) | (df['race:Caucasian'] == 1)].copy()\n",
        "\n",
        "y = df['is_recid']\n",
        "group = df['race:African-American']\n",
        "X = df.drop(columns=['is_recid', 'race:African-American', 'race:Caucasian'])"
      ]
    },
    {
      "cell_type": "code",
      "execution_count": null,
      "metadata": {
        "id": "S7AjN2sJdczn"
      },
      "outputs": [],
      "source": [
        "X_train, X_test, y_train, y_test, group_train, group_test = train_test_split(\n",
        "    X, y, group, test_size=0.20, random_state=42)\n",
        "\n",
        "scaler = StandardScaler()\n",
        "X_train_scaled = scaler.fit_transform(X_train)\n",
        "X_test_scaled = scaler.transform(X_test)"
      ]
    },
    {
      "cell_type": "code",
      "execution_count": null,
      "metadata": {
        "id": "mriKFmmGdeWT"
      },
      "outputs": [],
      "source": [
        "def build_mlp(input_dim):\n",
        "    model = Sequential([\n",
        "        Dense(64, activation='relu', input_shape=(input_dim,)),\n",
        "        Dropout(0.2),\n",
        "        Dense(32, activation='relu'),\n",
        "        Dense(1, activation='sigmoid')\n",
        "    ])\n",
        "    model.compile(optimizer='adam', loss='binary_crossentropy', metrics=['accuracy'])\n",
        "    return model\n",
        "\n",
        "model = build_mlp(X_train.shape[1])\n",
        "\n",
        "print(\"Model training...\")\n",
        "model.fit(X_train_scaled, y_train, epochs=20, batch_size=32, validation_data=(X_test_scaled, y_test))\n",
        "print(\"Model training completed!\")"
      ]
    },
    {
      "cell_type": "code",
      "execution_count": null,
      "metadata": {
        "id": "qSpYWoToeZ65"
      },
      "outputs": [],
      "source": [
        "y_pred_test = model.predict(X_test_scaled).flatten()\n",
        "\n",
        "df_pred = pd.DataFrame({\n",
        "    'race': group_test.replace({1: 'Black', 0: 'White'}).values,\n",
        "    'y_pred': y_pred_test\n",
        "})\n",
        "df_pred['id'] = df_pred.index\n",
        "df_melt = df_pred.melt(id_vars=['id', 'race'], value_vars=['y_pred'])\n",
        "\n",
        "sns.barplot(x='race', y='value', hue='variable', data=df_melt)\n",
        "plt.ylabel('Predicted probability of recidivism')\n",
        "plt.title('Model Predictions by Race (Black vs White)')\n",
        "plt.tight_layout()\n",
        "plt.show()"
      ]
    },
    {
      "cell_type": "code",
      "execution_count": null,
      "metadata": {
        "id": "7N6rQlgLevAn"
      },
      "outputs": [],
      "source": [
        "df_corr = pd.concat([X_test.reset_index(drop=True), group_test.reset_index(drop=True)], axis=1)\n",
        "df_corr['black'] = df_corr['race:African-American']\n",
        "df_corr['y_pred'] = y_pred_test\n",
        "\n",
        "corr_matrix = df_corr.corr()\n",
        "corr_subset = corr_matrix[['black', 'y_pred']].abs().sort_values(by='black', ascending=False).head(20)\n",
        "corr_subset = corr_subset.reset_index().rename(columns={'index': 'feature'})\n",
        "\n",
        "corr_melt = corr_subset.melt(id_vars='feature', value_vars=['black', 'y_pred'], var_name='variable', value_name='correlation')\n",
        "\n",
        "sns.barplot(x='correlation', y='feature', hue='variable', data=corr_melt, palette='Set2')\n",
        "plt.xlabel('Correlation')\n",
        "plt.title('Correlation of Features with Race and Prediction (Black vs White)')\n",
        "plt.tight_layout()\n",
        "plt.show()"
      ]
    },
    {
      "cell_type": "code",
      "execution_count": null,
      "metadata": {
        "id": "0ElK9LhXew3Z"
      },
      "outputs": [],
      "source": [
        "predict_fn = lambda x: model(x, training=False).numpy().flatten()\n",
        "\n",
        "sample_X = X_test_scaled[:100]\n",
        "sample_group = group_test[:100]\n",
        "background_X = X_train_scaled[:50]\n",
        "\n",
        "g = IntergroupDifference(group=sample_group, distance=\"relative_mean_distance\")\n",
        "explainer = gshap.KernelExplainer(predict_fn, background_X, g)\n",
        "gshap_values = explainer.gshap_values(sample_X, nsamples=50)\n",
        "\n",
        "df_importance = pd.DataFrame({'Features': X.columns, 'G-SHAP': gshap_values}).sort_values('G-SHAP', ascending=False)\n",
        "\n",
        "plt.figure(figsize=(10, 6))\n",
        "sns.barplot(y='Features', x='G-SHAP', data=df_importance.head(20), color='steelblue')\n",
        "plt.title(\"Top 20 Features by G-SHAP Importance\")\n",
        "plt.tight_layout()\n",
        "plt.show()"
      ]
    },
    {
      "cell_type": "code",
      "execution_count": null,
      "metadata": {
        "id": "V9ggkF5DezyV"
      },
      "outputs": [],
      "source": [
        "attack_model = build_mlp(X_train.shape[1])\n",
        "attack_model.set_weights(model.get_weights())\n",
        "\n",
        "optimizer = optimizers.Adam(learning_rate=0.001)\n",
        "\n",
        "def fool_gshap(model, background_X, sample_X, sample_group, epochs=50, batch_size=32):\n",
        "    for epoch in range(epochs):\n",
        "        with tf.GradientTape() as tape:\n",
        "            preds = model(sample_X, training=True)\n",
        "            preds = tf.squeeze(preds)\n",
        "\n",
        "            black_preds = tf.boolean_mask(preds, sample_group == 1)\n",
        "            white_preds = tf.boolean_mask(preds, sample_group == 0)\n",
        "\n",
        "            loss = tf.abs(tf.reduce_mean(black_preds) - tf.reduce_mean(white_preds))\n",
        "\n",
        "        gradients = tape.gradient(loss, model.trainable_variables)\n",
        "        optimizer.apply_gradients(zip(gradients, model.trainable_variables))\n",
        "\n",
        "        if epoch % 5 == 0:\n",
        "            print(f\"Epoch {epoch}: Fooling Loss (mean diff) = {loss.numpy():.4f}\")\n",
        "\n",
        "print(\"\\nG-SHAP fooling..\")\n",
        "fool_gshap(attack_model, background_X, sample_X, sample_group, epochs=50)\n",
        "print(\"G-SHAP fooling completed\")"
      ]
    },
    {
      "cell_type": "code",
      "execution_count": null,
      "metadata": {
        "id": "jcm-rPS3e1nz"
      },
      "outputs": [],
      "source": [
        "g = IntergroupDifference(group=sample_group, distance=\"relative_mean_distance\")\n",
        "explainer = gshap.KernelExplainer(lambda x: attack_model(x, training=False).numpy().flatten(), background_X, g)\n",
        "gshap_values_fool = explainer.gshap_values(sample_X, nsamples=50)\n",
        "\n",
        "df_importance_fool = pd.DataFrame({'Features': X.columns, 'G-SHAP (Fool)': gshap_values_fool}).sort_values('G-SHAP (Fool)', ascending=False)\n",
        "\n",
        "plt.figure(figsize=(10, 6))\n",
        "sns.barplot(y='Features', x='G-SHAP (Fool)', data=df_importance_fool.head(20), color='coral')\n",
        "plt.title(\"Top 20 Features by Fooled G-SHAP Importance\")\n",
        "plt.tight_layout()\n",
        "plt.show()"
      ]
    },
    {
      "cell_type": "code",
      "execution_count": null,
      "metadata": {
        "id": "kmuWbl6Ve3Dt"
      },
      "outputs": [],
      "source": [
        "comparison = pd.merge(df_importance, df_importance_fool, on=\"Features\", how=\"inner\")\n",
        "comparison[\"G-SHAP Difference (Fool - Original)\"] = comparison[\"G-SHAP (Fool)\"] - comparison[\"G-SHAP\"]\n",
        "comparison = comparison.sort_values(\"G-SHAP Difference (Fool - Original)\")\n",
        "\n",
        "plt.figure(figsize=(12, 8))\n",
        "sns.barplot(x=\"G-SHAP Difference (Fool - Original)\", y=\"Features\", data=comparison.head(20), palette=\"coolwarm\")\n",
        "plt.axvline(0, color='black', linestyle='--')\n",
        "plt.title(\"Features with the Greatest Decrease in G-SHAP Value After Fooling\")\n",
        "plt.tight_layout()\n",
        "plt.show()\n",
        "\n",
        "mean_gshap_before = df_importance[\"G-SHAP\"].mean()\n",
        "mean_gshap_after = df_importance_fool[\"G-SHAP (Fool)\"].mean()\n",
        "mean_diff = mean_gshap_after - mean_gshap_before\n",
        "percent_change = (mean_diff / abs(mean_gshap_before)) * 100\n",
        "\n",
        "print(f\"Average G-SHAP Change After Fooling: {mean_diff:.6f}\")\n",
        "print(f\"Average Percentage Change in G-SHAP After Fooling: %{percent_change:.2f}\")"
      ]
    }
  ],
  "metadata": {
    "colab": {
      "provenance": []
    },
    "kernelspec": {
      "display_name": "Python 3",
      "name": "python3"
    },
    "language_info": {
      "name": "python"
    }
  },
  "nbformat": 4,
  "nbformat_minor": 0
}
