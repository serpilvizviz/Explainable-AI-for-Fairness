{
  "cells": [
    {
      "cell_type": "code",
      "execution_count": null,
      "metadata": {
        "colab": {
          "base_uri": "https://localhost:8080/"
        },
        "id": "lkiJR5MfQG3n",
        "outputId": "0f2d8aa6-cc5c-4d3a-b8a8-73359b7d5387"
      },
      "outputs": [],
      "source": [
        "import numpy as np\n",
        "import pandas as pd\n",
        "import shap\n",
        "import tensorflow as tf\n",
        "from tensorflow.keras.models import Sequential\n",
        "from tensorflow.keras.layers import Dense, Dropout\n",
        "from tensorflow.keras import optimizers\n",
        "from sklearn.model_selection import train_test_split\n",
        "from sklearn.preprocessing import StandardScaler\n",
        "import matplotlib.pyplot as plt\n",
        "import seaborn as sns\n",
        "\n",
        "df = pd.read_csv(\"hf://datasets/scikit-learn/adult-census-income/adult.csv\")\n",
        "\n",
        "df = df[['age', 'workclass', 'education', 'education.num', 'marital.status',\n",
        "         'occupation', 'relationship', 'race', 'sex', 'capital.gain',\n",
        "         'capital.loss', 'hours.per.week', 'native.country', 'income']]\n",
        "\n",
        "df = pd.get_dummies(df, columns=['workclass', 'education', 'marital.status',\n",
        "                                 'occupation', 'relationship', 'race', 'native.country', 'sex'], drop_first=True)\n",
        "\n",
        "df['income'] = df['income'].apply(lambda x: 1 if x == '>50K' else 0)\n",
        "\n",
        "y = df['income']\n",
        "X = df.drop(columns=['income'])\n",
        "\n",
        "group = df['sex_Male']"
      ]
    },
    {
      "cell_type": "code",
      "execution_count": 2,
      "metadata": {
        "id": "PbDlyscPQKNp"
      },
      "outputs": [],
      "source": [
        "X_train, X_test, y_train, y_test, group_train, group_test = train_test_split(\n",
        "    X, y, group, test_size=0.20, random_state=42)\n",
        "\n",
        "scaler = StandardScaler()\n",
        "X_train_scaled = scaler.fit_transform(X_train)\n",
        "X_test_scaled = scaler.transform(X_test)"
      ]
    },
    {
      "cell_type": "code",
      "execution_count": null,
      "metadata": {
        "colab": {
          "base_uri": "https://localhost:8080/"
        },
        "id": "mpOgPNTIjyXd",
        "outputId": "1f52be7b-60a8-4bf5-eaf4-276454396b9d"
      },
      "outputs": [],
      "source": [
        "def build_mlp(input_dim):\n",
        "    model = Sequential([\n",
        "        Dense(64, activation='relu', input_shape=(input_dim,)),\n",
        "        Dropout(0.2),\n",
        "        Dense(32, activation='relu'),\n",
        "        Dense(1, activation='sigmoid')\n",
        "    ])\n",
        "    model.compile(optimizer='adam', loss='binary_crossentropy', metrics=['accuracy'])\n",
        "    return model\n",
        "\n",
        "model = build_mlp(X_train.shape[1])\n",
        "print(\"Model training...\")\n",
        "model.fit(X_train_scaled, y_train, epochs=20, batch_size=32, validation_data=(X_test_scaled, y_test))\n",
        "print(\"Model training completed!\")"
      ]
    },
    {
      "cell_type": "code",
      "execution_count": null,
      "metadata": {
        "colab": {
          "base_uri": "https://localhost:8080/",
          "height": 1000,
          "referenced_widgets": [
            "3230a354fd524c0896a6ba2ca9ab5a1a",
            "be3fa4d0bc6f439f84d30df112ff0137",
            "aecbbad79b314333aa82283415d7fa17",
            "afdc8db6542a4fef90d331cd4c33f7d5",
            "12d753b599f94ed2a99b898e42cd865c",
            "882c56946a9d4654a7ba25fc3c3c2624",
            "91a3a27fe04d4b3db1fe8bb66cbca05e",
            "6fdf26b373b3491383e7fb1b8e6c556c",
            "37a2dc2cf1c2491db8bd359001067d06",
            "8aa6b2fc074f45619ed257e4c0557ca5",
            "a9392f7716fa456283393772f8ce11ae"
          ]
        },
        "id": "C3klJbHQQNM0",
        "outputId": "4848f69b-9b82-4e0d-d64a-79af5b77a555"
      },
      "outputs": [],
      "source": [
        "def predict_fn(X_numpy):\n",
        "    return model(X_numpy, training=False).numpy().flatten()\n",
        "\n",
        "explainer = shap.KernelExplainer(predict_fn, X_train_scaled[:50])\n",
        "shap_values = explainer.shap_values(X_test_scaled[:100], nsamples=50)\n",
        "\n",
        "shap.summary_plot(shap_values, X_test_scaled[:100], feature_names=X.columns)\n",
        "\n",
        "mean_abs_shap = np.abs(shap_values).mean(axis=0)\n",
        "df_importance = pd.DataFrame({'Features': X.columns, 'Mean SHAP Value': mean_abs_shap})\n",
        "df_importance = df_importance.sort_values('Mean SHAP Value', ascending=False)\n",
        "\n",
        "plt.figure(figsize=(10, 6))\n",
        "sns.barplot(y='Features', x='Mean SHAP Value', data=df_importance.head(20), color='steelblue')\n",
        "plt.title(\"Top 20 Features by SHAP Values\")\n",
        "plt.xlabel(\"Mean SHAP Value\")\n",
        "plt.tight_layout()\n",
        "plt.show()\n",
        "\n",
        "print(\"\\nSHAP Table (Top Features):\")\n",
        "display(df_importance.head(20))"
      ]
    },
    {
      "cell_type": "code",
      "execution_count": 5,
      "metadata": {
        "colab": {
          "base_uri": "https://localhost:8080/"
        },
        "id": "l4TzsgrBQPHJ",
        "outputId": "5db6c0b9-0314-48a1-f85b-084a01e19113"
      },
      "outputs": [
        {
          "name": "stdout",
          "output_type": "stream",
          "text": [
            "\n",
            "Normal SHAP fooling starting...\n",
            "Epoch 0: Fooling Loss = 0.2049\n"
          ]
        },
        {
          "name": "stderr",
          "output_type": "stream",
          "text": [
            "/usr/local/lib/python3.11/dist-packages/keras/src/layers/core/dense.py:87: UserWarning: Do not pass an `input_shape`/`input_dim` argument to a layer. When using Sequential models, prefer using an `Input(shape)` object as the first layer in the model instead.\n",
            "  super().__init__(activity_regularizer=activity_regularizer, **kwargs)\n"
          ]
        },
        {
          "name": "stdout",
          "output_type": "stream",
          "text": [
            "Epoch 5: Fooling Loss = 0.1830\n",
            "Epoch 10: Fooling Loss = 0.1367\n",
            "Epoch 15: Fooling Loss = 0.1043\n",
            "Epoch 20: Fooling Loss = 0.0730\n",
            "Epoch 25: Fooling Loss = 0.0590\n",
            "Epoch 30: Fooling Loss = 0.0144\n",
            "Epoch 35: Fooling Loss = 0.0049\n",
            "Epoch 40: Fooling Loss = 0.0080\n",
            "Epoch 45: Fooling Loss = 0.0121\n",
            "Fooling completed!\n"
          ]
        }
      ],
      "source": [
        "attack_model = build_mlp(X_train.shape[1])\n",
        "attack_model.set_weights(model.get_weights())\n",
        "optimizer = optimizers.Adam(learning_rate=0.001)\n",
        "\n",
        "def fool_shap(model, sample_X, sample_group, epochs=50):\n",
        "    for epoch in range(epochs):\n",
        "        with tf.GradientTape() as tape:\n",
        "            preds = model(sample_X, training=True)\n",
        "            preds = tf.squeeze(preds)\n",
        "\n",
        "            male_preds = tf.boolean_mask(preds, sample_group == 1)\n",
        "            female_preds = tf.boolean_mask(preds, sample_group == 0)\n",
        "\n",
        "            male_mean = tf.reduce_mean(male_preds)\n",
        "            female_mean = tf.reduce_mean(female_preds)\n",
        "\n",
        "            loss = tf.abs(male_mean - female_mean)\n",
        "\n",
        "        gradients = tape.gradient(loss, model.trainable_variables)\n",
        "        optimizer.apply_gradients(zip(gradients, model.trainable_variables))\n",
        "\n",
        "        if epoch % 5 == 0:\n",
        "            print(f\"Epoch {epoch}: Fooling Loss = {loss.numpy():.4f}\")\n",
        "\n",
        "print(\"\\nNormal SHAP fooling starting...\")\n",
        "fool_shap(attack_model, X_test_scaled[:100], group_test[:100], epochs=50)\n",
        "print(\"Fooling completed!\")"
      ]
    },
    {
      "cell_type": "code",
      "execution_count": null,
      "metadata": {
        "colab": {
          "base_uri": "https://localhost:8080/",
          "height": 1000,
          "referenced_widgets": [
            "7b239187900040e287378da3cb08f656",
            "9bbe590a60064ec985f71101624f93f0",
            "6045bd2a110d48fc9ca79506cbbc7721",
            "bda5505c277a4c98bd39b4b597a8014d",
            "5e8412f1b468452a8cc3951dceb53113",
            "c8f4f3707df34622bd9742dadf982af4",
            "e09fd280d37f4e8f8e98c7d3b0091a1a",
            "e3b4e3d4d9864c469b309d599c5ef5df",
            "ec2a9c16420d4afea2350cfda57c767c",
            "4d4eb2982f674789b80f4f95f616ff4c",
            "553d7694fcd44d4db698d56198c5dd06"
          ]
        },
        "id": "Xf5D8Q9bQRFX",
        "outputId": "3fdfb6e9-c247-4540-874f-d41b0cea097c"
      },
      "outputs": [],
      "source": [
        "explainer_fool = shap.KernelExplainer(lambda x: attack_model(x, training=False).numpy().flatten(), X_train_scaled[:50])\n",
        "shap_values_fool = explainer_fool.shap_values(X_test_scaled[:100], nsamples=50)\n",
        "\n",
        "mean_shap_fool = np.abs(shap_values_fool).mean(axis=0)\n",
        "df_importance_fool = pd.DataFrame({'Features': X.columns, 'Mean SHAP Value (Fool)': mean_shap_fool})\n",
        "df_importance_fool = df_importance_fool.sort_values('Mean SHAP Value (Fool)', ascending=False)\n",
        "\n",
        "comparison = pd.merge(df_importance, df_importance_fool, on=\"Features\", how=\"inner\")\n",
        "comparison[\"SHAP Difference\"] = comparison[\"Mean SHAP Value (Fool)\"] - comparison[\"Mean SHAP Value\"]\n",
        "comparison = comparison.sort_values(\"SHAP Difference\")\n",
        "\n",
        "plt.figure(figsize=(12, 8))\n",
        "sns.barplot(x=\"SHAP Difference\", y=\"Features\", data=comparison.head(20), palette=\"coolwarm\")\n",
        "plt.axvline(0, color='black', linestyle='--')\n",
        "plt.title(\"Top 20 Features with SHAP Change After Fooling\")\n",
        "plt.tight_layout()\n",
        "plt.show()\n",
        "\n",
        "mean_shap_before = df_importance[\"Mean SHAP Value\"].mean()\n",
        "mean_shap_after = df_importance_fool[\"Mean SHAP Value (Fool)\"].mean()\n",
        "diff = mean_shap_after - mean_shap_before\n",
        "percent_change = (diff / abs(mean_shap_before)) * 100\n",
        "\n",
        "print(f\"SHAP average change after fooling: {diff:.6f}\")\n",
        "print(f\"SHAP percent change after fooling: %{percent_change:.2f}\")"
      ]
    }
  ],
  "metadata": {
    "colab": {
      "provenance": []
    },
    "kernelspec": {
      "display_name": "Python 3",
      "name": "python3"
    },
    "language_info": {
      "name": "python"
    }
  },
  "nbformat": 4,
  "nbformat_minor": 0
}
